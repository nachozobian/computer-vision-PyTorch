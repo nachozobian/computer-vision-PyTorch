{
  "nbformat": 4,
  "nbformat_minor": 0,
  "metadata": {
    "colab": {
      "provenance": [],
      "authorship_tag": "ABX9TyNnkmkvqGiDuajJ5927ibIF",
      "include_colab_link": true
    },
    "kernelspec": {
      "name": "python3",
      "display_name": "Python 3"
    },
    "language_info": {
      "name": "python"
    }
  },
  "cells": [
    {
      "cell_type": "markdown",
      "metadata": {
        "id": "view-in-github",
        "colab_type": "text"
      },
      "source": [
        "<a href=\"https://colab.research.google.com/github/nachozobian/computer-vision-PyTorch/blob/main/computer_vision_PyTorch.ipynb\" target=\"_parent\"><img src=\"https://colab.research.google.com/assets/colab-badge.svg\" alt=\"Open In Colab\"/></a>"
      ]
    },
    {
      "cell_type": "markdown",
      "source": [
        "# PyTorch computer vision notebook\n",
        "\n",
        "This notebook is just me taking my first steps with computer vision in PyTorch.\n",
        "\n",
        "* `torchvision` is part of the PyTorch project for computer vision! \n",
        "* `torchvision.datasets` get datasets and data loading functions\n",
        "* `torchvision.models` get pretrained computer vision models\n",
        "* `torchvision.transforms` manipulating your vision data to be suitable for ML\n",
        "* `torch.utils.data.Dataset` Base dataset class for PyTorch\n",
        "* `torch.utils.data.DataLoader` Python iterable object"
      ],
      "metadata": {
        "id": "ROAj3gfWQx-T"
      }
    },
    {
      "cell_type": "code",
      "source": [
        "#Import PyTorch\n",
        "import torch\n",
        "from torch import nn\n",
        "\n",
        "#Import Torchvision\n",
        "import torchvision\n",
        "from torchvision import datasets\n",
        "from torchvision import transforms\n",
        "from torchvision.transforms import ToTensor\n",
        "\n",
        "#Import matplotlib for visualization\n",
        "import matplotlib.pyplot as plt"
      ],
      "metadata": {
        "id": "QzEIOMLsRflV"
      },
      "execution_count": 1,
      "outputs": []
    },
    {
      "cell_type": "code",
      "source": [],
      "metadata": {
        "id": "dh03G6idSiyV"
      },
      "execution_count": null,
      "outputs": []
    }
  ]
}